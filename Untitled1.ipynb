{
 "cells": [
  {
   "cell_type": "code",
   "execution_count": 4,
   "metadata": {},
   "outputs": [
    {
     "name": "stdout",
     "output_type": "stream",
     "text": [
      "a :\n",
      "aa :\n",
      "11\n",
      "b :\n",
      "2\n"
     ]
    }
   ],
   "source": [
    "list1 =  {\"a\":{\"aa\":11},\"b\":2}\n",
    "def printDict(dict1):\n",
    "    for k, v in dict1.items():\n",
    "        print(k,\":\")\n",
    "        if isinstance(v,dict):\n",
    "            printDict(v)\n",
    "        else: \n",
    "            print(v)\n",
    "printDict(list1)"
   ]
  },
  {
   "cell_type": "markdown",
   "metadata": {},
   "source": [
    "dict= {key:value}\n",
    "key 必须是不可变对象，比如str，int，float；对于不变对象来说，调用对象自身的任意方法，也不会改变该对象自身的内容。相反，这些方法会创建新的对象并返回，这样，就保证了不可变对象本身永远是不可变的。\n",
    "\n",
    "而value 可以是一切对象。\n",
    "\n",
    "\n",
    "这是 返回 key\n",
    "> for i in dict1:\n",
    "\n",
    "这是 返回 key，value\n",
    "> for k, v in dict.items():"
   ]
  },
  {
   "cell_type": "code",
   "execution_count": 41,
   "metadata": {},
   "outputs": [
    {
     "name": "stdout",
     "output_type": "stream",
     "text": [
      "2017-08-28 11:40:03\n"
     ]
    }
   ],
   "source": [
    "import time\n",
    "print(time.strftime(\"%Y-%m-%d %H:%M:%S\", time.localtime()))"
   ]
  }
 ],
 "metadata": {
  "kernelspec": {
   "display_name": "Python 3",
   "language": "python",
   "name": "python3"
  },
  "language_info": {
   "codemirror_mode": {
    "name": "ipython",
    "version": 3
   },
   "file_extension": ".py",
   "mimetype": "text/x-python",
   "name": "python",
   "nbconvert_exporter": "python",
   "pygments_lexer": "ipython3",
   "version": "3.6.1"
  }
 },
 "nbformat": 4,
 "nbformat_minor": 2
}
