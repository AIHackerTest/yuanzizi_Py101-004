{
 "cells": [
  {
   "cell_type": "markdown",
   "metadata": {},
   "source": [
    "# from * import \n",
    "一个包是一个带有特殊文件 __init__.py 的目录。__init__.py 文件定义了包的属性和方法。其实它可以什么也不定义；可以只是一个空文件，但是必须存在。如果 __init__.py 不存在，这个目录就仅仅是一个目录，而不是一个包，它就不能被导入或者包含其它的模块和嵌套包。\n",
    "\n",
    "_init__.py 文件:\n",
    "\n",
    "__init__.py 控制着包的导入行为。假如 __init__.py 为空，那么仅仅导入包是什么都做不了的。\n",
    "\n",
    "from PackageName import Module (模块)\n",
    "\n",
    "__init__.py 中还有一个重要的变量，叫做 __all__。我们有时会使出一招“全部导入”，也就是这样：\n",
    "\n",
    "from PackageName import *\n",
    "\n",
    "这时 import 就会把注册在包 __init__.py 文件中 __all__ 列表中的子模块和子包导入到当前作用域中来。\n",
    "\n",
    "> import 一个模组 里面的二级模组 还是不能用，要专门from XX.XX import xxx ，why??\n",
    "\n",
    "\n",
    "# pip 安装\n",
    "下载地址是：https://pypi.python.org/pypi/pip#downloads  source\n",
    "下载完成之后，解压到一个文件夹，用CMD控制台进入解压目录，输入：python setup.py install\n",
    "在用户和系统 PATH最后添加：C:\\Python34\\Scripts;\n",
    "安装一些Python的包  pip install requtests\n",
    "\n",
    "\n",
    "# requests\n",
    "## 简介：\n",
    "比 urllib 更加方便，更重要的一点是它支持 Python3 哦！\n",
    "源代码： https://github.com/requests/requests\n",
    "\n",
    "## 用法\n",
    "requests.get(‘https://github.com/timeline.json’) #GET请求\n",
    "requests.post(“http://httpbin.org/post”) #POST请求\n",
    "> headers = {'content-type': 'application/json', 'User-Agent': 'Mozilla/5.0 (X11; Ubuntu; Linux x86_64; rv:22.0) Gecko/20100101 Firefox/22.0'}\n",
    "r = requests.post('https://api.github.com/some/endpoint', data=data, headers=headers)   \n",
    "\n",
    "requests.put(“http://httpbin.org/put”) #PUT请求\n",
    "requests.delete(“http://httpbin.org/delete”) #DELETE请求\n",
    "\n",
    "使用requests方法后，会返回一个response对象，其存储了服务器响应的内容：\n",
    "    r.status_code #响应状态码\n",
    "    r.raw #返回原始响应体，也就是 urllib 的 response 对象，使用 r.raw.read() 读取\n",
    "    r.content #字节方式的响应体，会自动为你解码 gzip 和 deflate 压缩\n",
    "    r.text #字符串方式的响应体，会自动根据响应头部的字符编码进行解码\n",
    "    r.headers #以字典对象存储服务器响应头，但是这个字典比较特殊，字典键不区分大小写，若键不存在则返回None\n",
    "    #*特殊方法*#\n",
    "    r.json() #Requests中内置的JSON解码器\n",
    "    r.raise_for_status() #失败请求(非200响应)抛出异常\n",
    "    r.encoding 为相应的编码\n",
    "\n",
    "# pdb 调试\n",
    "> import pdb\n",
    "> pdb.set_trace()\n",
    "\n",
    "break 或 b \t设置断点\n",
    "continue 或 c \t继续执行程序\n",
    "list 或 l \t查看当前行的代码段\n",
    "step 或 s \t进入函数\n",
    "return 或 r \t执行代码直到从当前函数返回\n",
    "exit 或 q \t中止并退出\n",
    "next 或 n \t执行下一行\n",
    "pp \t打印变量的值\n",
    "help \t帮助\n"
   ]
  },
  {
   "cell_type": "code",
   "execution_count": null,
   "metadata": {
    "collapsed": true
   },
   "outputs": [],
   "source": []
  }
 ],
 "metadata": {
  "kernelspec": {
   "display_name": "Python 3",
   "language": "python",
   "name": "python3"
  },
  "language_info": {
   "codemirror_mode": {
    "name": "ipython",
    "version": 3
   },
   "file_extension": ".py",
   "mimetype": "text/x-python",
   "name": "python",
   "nbconvert_exporter": "python",
   "pygments_lexer": "ipython3",
   "version": "3.6.1"
  }
 },
 "nbformat": 4,
 "nbformat_minor": 2
}
