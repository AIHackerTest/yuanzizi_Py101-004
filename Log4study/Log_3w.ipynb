{
 "cells": [
  {
   "cell_type": "markdown",
   "metadata": {},
   "source": [
    "# 170830 3wd3\n",
    "### 探索\n",
    "#### 0.1 上午\n",
    "\n",
    "1. 编写weather website 主程序的代码 3h\n",
    "实现了MVP ，并提交GitHub。\n",
    "\n",
    "\n",
    "#### 0.2 下午\n",
    "\n",
    "\n",
    "#### 0.3 晚上\n",
    "\n",
    "### 复盘之收获\n",
    "\n",
    "\n",
    "\n",
    "# 170829 3wd2\n",
    "### 探索\n",
    "#### 0.1 上午\n",
    "\n",
    "1. 安装学习flask、jinja 2h\n",
    "根据官网 和 廖雪峰的网站 学习flask 和 jinja，对web 框架有一个比较浅的认识。\n",
    "\n",
    "#### 0.2 下午\n",
    "1. 梳理weather website 主程序的逻辑 1h\n",
    "把大概的网站页面逻辑在纸上画出来\n",
    "\n",
    "#### 0.3 晚上\n",
    "\n",
    "### 复盘之收获\n",
    "\n",
    "1. web框架 、mvc 模式这些都是纸老虎，不用畏难。\n",
    "2. 写代码前先把 功能逻辑 和 文件架构 初步规划好，这样不仅更有效率，而且不会陷入代码堆中迷乱。\n",
    "\n"
   ]
  }
 ],
 "metadata": {
  "kernelspec": {
   "display_name": "Python 3",
   "language": "python",
   "name": "python3"
  },
  "language_info": {
   "codemirror_mode": {
    "name": "ipython",
    "version": 3
   },
   "file_extension": ".py",
   "mimetype": "text/x-python",
   "name": "python",
   "nbconvert_exporter": "python",
   "pygments_lexer": "ipython3",
   "version": "3.6.1"
  }
 },
 "nbformat": 4,
 "nbformat_minor": 2
}
