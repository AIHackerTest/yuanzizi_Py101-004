{
 "cells": [
  {
   "cell_type": "markdown",
   "metadata": {},
   "source": [
    "# 170823 2wd3\n",
    "### 探索\n",
    "#### 0.1 上午\n",
    "\n",
    "1. 整理程序架构 1h\n",
    "根据心知天气的代码架构，把天气API的配置信息都放在 .utils/const_value.py 里面；把查询函数都放在./utils/helper.py　里面，这样感觉更清晰； 1h\n",
    "2. 察看对比了各种API 接口的区别 1h\n",
    "yahoo 使用YSL很有特点，这样具备了很强的适配性，但是这样不会不安全么？这个问题发个ISSUE 讨论下 1h\n",
    "\n",
    "#### 0.2 下午\n",
    "- 照着 thxiami[https://github.com/thxiami] 大神的日志，开始记录 0.5 h\n",
    "- 探索 atom + git 的使用 0.5h\n",
    "    * 安装git plus ,本地环境git 配置好；\n",
    "    * 在atom 里面ctrl+shift+p 命令窗口 输入git，选择相应的命令\n",
    "    * ctrl+shift+A P 一键式提交\n",
    "- 了解 gist 的作用 0.5h\n",
    "* Gist作为一个粘贴数据的工具，可以很容易地将数据粘贴在Gist网站中，并拥有唯一的URL，可在其他网页中引用Gist中粘贴的数据。\n",
    "* 作为GitHub的一个子网站，使用Git版本库对粘贴数据进行维护，可以被fork 。\n",
    "* 支持 markdown，源代码\n",
    "* 可以在https://gist.github.com 或者 命令行 gist filename 使用\n",
    "* http://yuanzizi.roughdraft.io  显示，可以用在博客\n",
    "\n",
    "#### 0.3 晚上\n",
    "\n",
    "### 复盘之收获\n",
    "\n",
    "1. 突然间体会到程序的框架意义，以前总是因为看不懂就排斥不看，导致直接一直停留在教科书的水平，远离真实的世界。\n",
    "2. 实现一个功能 跟 实现好一个功能之间差别很大，但是可以通过不断修改 和 复盘 去逼近，比如对函数的封装 ，代码的简练。\n",
    "\n",
    "# 170824 2wd4\n",
    "### 探索\n",
    "  今天开了一天会，晚上打王者荣耀，荒废了一天。\n",
    " \n",
    "### 复盘之收获\n",
    "1. WOOP 为何没起作用？是大脑机制出了问题么？还是深层次的原因？\n",
    "2. 人为何会沉迷游戏？\n",
    "\n",
    "  \n",
    "# 170825 2wd5\n",
    "### 探索"
   ]
  }
 ],
 "metadata": {
  "kernelspec": {
   "display_name": "Python 3",
   "language": "python",
   "name": "python3"
  },
  "language_info": {
   "codemirror_mode": {
    "name": "ipython",
    "version": 3
   },
   "file_extension": ".py",
   "mimetype": "text/x-python",
   "name": "python",
   "nbconvert_exporter": "python",
   "pygments_lexer": "ipython3",
   "version": "3.6.1"
  }
 },
 "nbformat": 4,
 "nbformat_minor": 2
}
