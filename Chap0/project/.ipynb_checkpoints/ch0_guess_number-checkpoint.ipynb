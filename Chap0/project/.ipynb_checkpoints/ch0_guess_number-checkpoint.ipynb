{
 "cells": [
  {
   "cell_type": "code",
   "execution_count": 4,
   "metadata": {},
   "outputs": [
    {
     "name": "stdout",
     "output_type": "stream",
     "text": [
      "4\n",
      "Guess the number between 0 to 20! Are U Ready?\n",
      "Please input the 1 times number you guess: 9\n",
      "---- You guess too large, You have more 9 times . Try again.-----\n",
      "\n",
      "Please input the 2 times number you guess: 3\n",
      "---- You guess too small, You have more 8 times . Try again.-----\n",
      "\n",
      "Please input the 3 times number you guess: 2\n",
      "---- You guess too small, You have more 7 times . Try again.-----\n",
      "\n",
      "Please input the 4 times number you guess: a\n",
      "Some Error appear:  <class 'ValueError'>\n",
      "Please input the 4 times number you guess: 3\n",
      "---- You guess too small, You have more 6 times . Try again.-----\n",
      "\n",
      "Please input the 5 times number you guess: d\n",
      "Some Error appear:  <class 'ValueError'>\n",
      "Please input the 5 times number you guess: 3\n",
      "---- You guess too small, You have more 5 times . Try again.-----\n",
      "\n",
      "Please input the 6 times number you guess: 30\n",
      "---- You guess too large, You have more 4 times . Try again.-----\n",
      "\n",
      "Please input the 7 times number you guess: 0\n",
      "---- You guess too small, You have more 3 times . Try again.-----\n",
      "\n",
      "Please input the 8 times number you guess: 0\n",
      "---- You guess too small, You have more 2 times . Try again.-----\n",
      "\n",
      "Please input the 9 times number you guess: 0\n",
      "---- You guess too small, You have more 1 times . Try again.-----\n",
      "\n",
      "Please input the 10 times number you guess: 0\n",
      "---- You guess too small, You have more 0 times . Try again.-----\n",
      "\n",
      "Petty,tims is out~!The correct number is 4\n"
     ]
    }
   ],
   "source": [
    "\"\"\"\n",
    "    猜数字（又称 Bulls and Cows ）是一种古老的密码破译类益智小游戏，\n",
    "    起源 20 世纪中期，一般由两人或多人玩。\n",
    "\n",
    "    程序随机生成一个 20 以内的数字，用户有 10 次机会猜测\n",
    "    程序根据用户输入，给予一定提示（大了、小了、正确）\n",
    "    猜对或用完 10 次机会，游戏结束\n",
    "\"\"\"\n",
    "import random\n",
    "import sys\n",
    "\n",
    "num = random.randint(0,20)\n",
    "flag = 0 # 猜中标志位\n",
    "print( num )\n",
    "\n",
    "print(\"Guess the number between 0 to 20! Are U Ready?\")\n",
    "for i in range( 10 ):\n",
    "    #print( i )\n",
    "\n",
    "    while 1:\n",
    "        print(\"Please input the {} times number you guess: \".format(i+1),end='')\n",
    "        try: # 检测输入的异常\n",
    "            num_guess = int(input())\n",
    "            break\n",
    "        except ValueError:\n",
    "            print(\"Some Error appear: \",sys.exc_info()[0])\n",
    "\n",
    "    if num_guess == num:\n",
    "        print (\"Congrutulation~! You're Right!\")\n",
    "        flag = 1\n",
    "        break\n",
    "    elif num_guess > num:\n",
    "        print (\"---- You guess too large, You have more {} times . Try again.-----\".format(9-i))\n",
    "        print ()\n",
    "    elif num_guess < num:\n",
    "        print (\"---- You guess too small, You have more {} times . Try again.-----\".format(9-i))\n",
    "        print ()\n",
    "        \n",
    "if flag == 0:\n",
    "    print(\"Petty,tims is out~!The correct number is {}\".format(num))"
   ]
  },
  {
   "cell_type": "markdown",
   "metadata": {},
   "source": [
    "#While 循环 和 异常处理\n",
    "以下代码测试while循环以及 try except 的异常处理机制"
   ]
  },
  {
   "cell_type": "code",
   "execution_count": 2,
   "metadata": {},
   "outputs": [
    {
     "name": "stdout",
     "output_type": "stream",
     "text": [
      "1\n"
     ]
    }
   ],
   "source": [
    "import sys\n",
    "while 1:\n",
    "    try: # 检测输入的异常\n",
    "        num_guess = int(input())\n",
    "        break\n",
    "    except ValueError:\n",
    "        print(\"Some Error appear: \",sys.exc_info()[0])"
   ]
  },
  {
   "cell_type": "code",
   "execution_count": null,
   "metadata": {
    "collapsed": true
   },
   "outputs": [],
   "source": []
  }
 ],
 "metadata": {
  "celltoolbar": "Raw Cell Format",
  "kernelspec": {
   "display_name": "Python 3",
   "language": "python",
   "name": "python3"
  },
  "language_info": {
   "codemirror_mode": {
    "name": "ipython",
    "version": 3
   },
   "file_extension": ".py",
   "mimetype": "text/x-python",
   "name": "python",
   "nbconvert_exporter": "python",
   "pygments_lexer": "ipython3",
   "version": "3.6.1"
  }
 },
 "nbformat": 4,
 "nbformat_minor": 2
}
