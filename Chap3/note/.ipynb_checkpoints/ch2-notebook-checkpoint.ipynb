{
 "cells": [
  {
   "cell_type": "markdown",
   "metadata": {},
   "source": [
    "# 任务描述\n",
    "\n",
    "1. 基础任务：\n",
    "完成一个在命令行界面下天气查询程序，实现以下功能：\n",
    "\n",
    "    输入城市名，返回该城市最新的天气数据；\n",
    "    输入指令，获取帮助信息（一般使用 h 或 help）；\n",
    "    输入指令，获取历史查询信息（一般使用 history）；\n",
    "    输入指令，退出程序的交互（一般使用 quit 或 exit）；\n",
    "\n",
    "提交时需包含软件使用说明书 README.md， 能令其他同学根据说明书运行程序，使用所有功能。\n",
    "参考资料：\n",
    "\n",
    "2. 进阶任务：玩转 API（选做）\n",
    "\n",
    "如果你已完成基础任务，还可以继续探索：\n",
    "\n",
    "    之前只在输入城市名时查询天气，有没有可能指定时间，让程序定时查询天气？\n",
    "    选一个国内 API 和国外 API 分别进行调用，了解不同的调用姿势。\n",
    "    更进一步，如果你来设计 API ，你会怎么设计？\n",
    "    给程序增加温度单位转换功能？\n",
    "\n",
    "\n",
    "\n",
    "\n",
    "# 参考资料\n",
    "\n",
    "* 如果探索国外的 API 有网络不稳定的情况，别忘了科学上网。\n",
    "\n",
    "    What is an API? - Youtube\n",
    "    Application Programming Interface - Wikipedia\n",
    "    API Providers - Apigee\n",
    "    API Store\n",
    "    What APIs Are And Why They’re Important\n",
    "    \n",
    "* 教练检索了一些 API 供你选择：\n",
    "\n",
    "    心知天气 - 天气数据 API 和BI - 冷暖自心知\n",
    "    Weather API- OpenWeatherMap\n",
    "    彩云天气API\n",
    "    Weather API - Free Weather API JSON and XML - Developer API Weather For Website - Apixu\n",
    "    Weather API- OpenWeatherMap\n",
    "    Dark Sky API\n",
    "    Yahoo! Weather RSS feed\n",
    "    和风天气 | 更专业的天气数据服务\n",
    "    \n",
    "* Python 和 API 进行交互使用的是 HTTP 协议。\n",
    "\n",
    "    Requests: HTTP for Humans\n",
    "    HTTP 方法：GET 对比 POST\n",
    "\n",
    "\n",
    "* JSON 是一种存储和交换文本信息的语法。\n",
    "\n",
    "    Introducing JSON\n",
    "    19.2. json — JSON encoder and decoder\n",
    "    JSON Response Content\n"
   ]
  },
  {
   "cell_type": "markdown",
   "metadata": {},
   "source": [
    "# 需求分析：\n",
    "1. 前提条件：\n",
    "    通过api 获取 天气信息，并缓存本地\n",
    "2. "
   ]
  }
 ],
 "metadata": {
  "kernelspec": {
   "display_name": "Python 3",
   "language": "python",
   "name": "python3"
  },
  "language_info": {
   "codemirror_mode": {
    "name": "ipython",
    "version": 3
   },
   "file_extension": ".py",
   "mimetype": "text/x-python",
   "name": "python",
   "nbconvert_exporter": "python",
   "pygments_lexer": "ipython3",
   "version": "3.6.1"
  }
 },
 "nbformat": 4,
 "nbformat_minor": 2
}
