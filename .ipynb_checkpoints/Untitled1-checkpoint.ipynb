{
 "cells": [
  {
   "cell_type": "markdown",
   "metadata": {},
   "source": [
    "# 170823 2wd3\n",
    "### 探索\n",
    "#### 0.1 上午\n",
    "\n",
    "1. 整理程序架构 1h\n",
    "根据心知天气的代码架构，把天气API的配置信息都放在 .utils/const_value.py 里面；把查询函数都放在./utils/helper.py　里面，这样感觉更清晰； 1h\n",
    "2. 察看对比了各种API 接口的区别 1h\n",
    "yahoo 使用YSL很有特点，这样具备了很强的适配性，但是这样不会不安全么？这个问题发个ISSUE 讨论下 1h\n",
    "\n",
    "#### 0.2 下午\n",
    "- 照着 thxiami[https://github.com/thxiami] 大神的日志，开始记录 0.5 h\n",
    "\n",
    "#### 0.3 晚上\n",
    "\n",
    "### 复盘之收获\n",
    "\n"
   ]
  }
 ],
 "metadata": {
  "kernelspec": {
   "display_name": "Python 3",
   "language": "python",
   "name": "python3"
  },
  "language_info": {
   "codemirror_mode": {
    "name": "ipython",
    "version": 3
   },
   "file_extension": ".py",
   "mimetype": "text/x-python",
   "name": "python",
   "nbconvert_exporter": "python",
   "pygments_lexer": "ipython3",
   "version": "3.6.1"
  }
 },
 "nbformat": 4,
 "nbformat_minor": 2
}
